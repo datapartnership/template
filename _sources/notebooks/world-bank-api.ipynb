{
 "cells": [
  {
   "cell_type": "markdown",
   "id": "90700fdc-fcc7-4e54-8c9e-449879d8c66d",
   "metadata": {
    "tags": []
   },
   "source": [
    "# World Bank API\n",
    "\n",
    "> The following is an example of a [Jupyter notebook](https://jupyter.org) - a tutorial of how to retrieve data from the [World Bank Indicators API](https://datahelpdesk.worldbank.org/knowledgebase/articles/889392-about-the-indicators-api-documentation) - that illustrates how to use computational content with the [template](https://datapartnership.org/template). "
   ]
  },
  {
   "cell_type": "markdown",
   "id": "e0d992a6-f656-45ce-a025-f824901e8797",
   "metadata": {},
   "source": [
    "## Requirements"
   ]
  },
  {
   "cell_type": "code",
   "execution_count": 67,
   "id": "1811080b-c4c6-43cb-9e46-5cfa65d54abf",
   "metadata": {},
   "outputs": [],
   "source": [
    "import itertools\n",
    "\n",
    "import bokeh\n",
    "import requests\n",
    "import pandas\n",
    "\n",
    "from bokeh.palettes import Spectral6\n",
    "from bokeh.plotting import figure, show, output_notebook\n",
    "from bokeh.models import BasicTickFormatter"
   ]
  },
  {
   "cell_type": "markdown",
   "id": "fb8d2738-535e-4957-b82a-987891955a7f",
   "metadata": {},
   "source": [
    "## Retrieve Data\n",
    "\n",
    "In this example, we retrieve **Population, total** (`SP.POP.TOTL`) from the [World Bank Indicators](https://data.worldbank.org/indicator) for [BRICS](https://infobrics.org)."
   ]
  },
  {
   "cell_type": "code",
   "execution_count": 38,
   "id": "c955864a-1889-4f7f-a29e-108b0534846b",
   "metadata": {},
   "outputs": [],
   "source": [
    "url = \"https://api.worldbank.org/v2/country/chn;bra;ind;rus;zaf/indicator/SP.POP.TOTL?format=json&per_page=10000\""
   ]
  },
  {
   "cell_type": "markdown",
   "id": "6b5aac7c-bf80-4daa-a4a4-eebe8edc97bb",
   "metadata": {},
   "source": [
    "Let's use [requests](https://requests.readthedocs.io) to send a GET request,"
   ]
  },
  {
   "cell_type": "code",
   "execution_count": 40,
   "id": "8d699f28-853a-40a1-8ea9-8dd566962454",
   "metadata": {},
   "outputs": [],
   "source": [
    "r = requests.get(url)"
   ]
  },
  {
   "cell_type": "markdown",
   "id": "a21cf193-ec13-45b8-9726-bb960ac8586a",
   "metadata": {},
   "source": [
    "Now, let's normalize and create `pandas.DataFrame` from the response,"
   ]
  },
  {
   "cell_type": "code",
   "execution_count": 47,
   "id": "3dc152b2-95ba-473a-a416-2c4d5bac7622",
   "metadata": {},
   "outputs": [],
   "source": [
    "# normalize\n",
    "data = pandas.json_normalize(r.json()[-1])\n",
    "\n",
    "df = pandas.DataFrame.from_dict(data)"
   ]
  },
  {
   "cell_type": "markdown",
   "id": "241904c0-35b9-4e43-a3f9-f97738ea9fd1",
   "metadata": {},
   "source": [
    "```{tip}\n",
    "Alternatively, the World Bank API supports downloading the data as an [archive](http://api.worldbank.org/v2/country/all/indicator/SP.POP.TOTL?date=2000&source=2&downloadformat=csv). \n",
    "```"
   ]
  },
  {
   "cell_type": "markdown",
   "id": "bae3462b-f49c-4b8a-badb-8f580b4fc268",
   "metadata": {},
   "source": [
    "Let's take a look at the dataframe, "
   ]
  },
  {
   "cell_type": "code",
   "execution_count": 48,
   "id": "c0bbef2d-495c-4140-b8ac-45ee47772142",
   "metadata": {},
   "outputs": [],
   "source": [
    "df = df.pivot_table(values=\"value\", index=\"date\", columns=\"countryiso3code\")"
   ]
  },
  {
   "cell_type": "markdown",
   "id": "cbb05f34",
   "metadata": {},
   "source": [
    "Let's scale to the numbers to **millions**."
   ]
  },
  {
   "cell_type": "code",
   "execution_count": 49,
   "id": "392e2224-ffe0-4f98-a568-1be3b4a53fb3",
   "metadata": {},
   "outputs": [
    {
     "data": {
      "text/html": [
       "<div>\n",
       "<style scoped>\n",
       "    .dataframe tbody tr th:only-of-type {\n",
       "        vertical-align: middle;\n",
       "    }\n",
       "\n",
       "    .dataframe tbody tr th {\n",
       "        vertical-align: top;\n",
       "    }\n",
       "\n",
       "    .dataframe thead th {\n",
       "        text-align: right;\n",
       "    }\n",
       "</style>\n",
       "<table border=\"1\" class=\"dataframe\">\n",
       "  <thead>\n",
       "    <tr style=\"text-align: right;\">\n",
       "      <th>countryiso3code</th>\n",
       "      <th>BRA</th>\n",
       "      <th>CHN</th>\n",
       "      <th>IND</th>\n",
       "      <th>RUS</th>\n",
       "      <th>ZAF</th>\n",
       "    </tr>\n",
       "    <tr>\n",
       "      <th>date</th>\n",
       "      <th></th>\n",
       "      <th></th>\n",
       "      <th></th>\n",
       "      <th></th>\n",
       "      <th></th>\n",
       "    </tr>\n",
       "  </thead>\n",
       "  <tbody>\n",
       "    <tr>\n",
       "      <th>1960</th>\n",
       "      <td>72179235</td>\n",
       "      <td>667070000</td>\n",
       "      <td>450547675</td>\n",
       "      <td>119897000</td>\n",
       "      <td>17099836</td>\n",
       "    </tr>\n",
       "    <tr>\n",
       "      <th>1961</th>\n",
       "      <td>74311338</td>\n",
       "      <td>660330000</td>\n",
       "      <td>459642166</td>\n",
       "      <td>121236000</td>\n",
       "      <td>17524533</td>\n",
       "    </tr>\n",
       "    <tr>\n",
       "      <th>1962</th>\n",
       "      <td>76514329</td>\n",
       "      <td>665770000</td>\n",
       "      <td>469077191</td>\n",
       "      <td>122591000</td>\n",
       "      <td>17965733</td>\n",
       "    </tr>\n",
       "    <tr>\n",
       "      <th>1963</th>\n",
       "      <td>78772647</td>\n",
       "      <td>682335000</td>\n",
       "      <td>478825602</td>\n",
       "      <td>123960000</td>\n",
       "      <td>18423157</td>\n",
       "    </tr>\n",
       "    <tr>\n",
       "      <th>1964</th>\n",
       "      <td>81064572</td>\n",
       "      <td>698355000</td>\n",
       "      <td>488848139</td>\n",
       "      <td>125345000</td>\n",
       "      <td>18896303</td>\n",
       "    </tr>\n",
       "    <tr>\n",
       "      <th>...</th>\n",
       "      <td>...</td>\n",
       "      <td>...</td>\n",
       "      <td>...</td>\n",
       "      <td>...</td>\n",
       "      <td>...</td>\n",
       "    </tr>\n",
       "    <tr>\n",
       "      <th>2017</th>\n",
       "      <td>207833825</td>\n",
       "      <td>1396215000</td>\n",
       "      <td>1338676779</td>\n",
       "      <td>144496739</td>\n",
       "      <td>57009751</td>\n",
       "    </tr>\n",
       "    <tr>\n",
       "      <th>2018</th>\n",
       "      <td>209469320</td>\n",
       "      <td>1402760000</td>\n",
       "      <td>1352642283</td>\n",
       "      <td>144477859</td>\n",
       "      <td>57792520</td>\n",
       "    </tr>\n",
       "    <tr>\n",
       "      <th>2019</th>\n",
       "      <td>211049519</td>\n",
       "      <td>1407745000</td>\n",
       "      <td>1366417756</td>\n",
       "      <td>144406261</td>\n",
       "      <td>58558267</td>\n",
       "    </tr>\n",
       "    <tr>\n",
       "      <th>2020</th>\n",
       "      <td>212559409</td>\n",
       "      <td>1411100000</td>\n",
       "      <td>1380004385</td>\n",
       "      <td>144073139</td>\n",
       "      <td>59308690</td>\n",
       "    </tr>\n",
       "    <tr>\n",
       "      <th>2021</th>\n",
       "      <td>213993441</td>\n",
       "      <td>1412360000</td>\n",
       "      <td>1393409033</td>\n",
       "      <td>143446060</td>\n",
       "      <td>60041996</td>\n",
       "    </tr>\n",
       "  </tbody>\n",
       "</table>\n",
       "<p>62 rows × 5 columns</p>\n",
       "</div>"
      ],
      "text/plain": [
       "countryiso3code        BRA         CHN         IND        RUS       ZAF\n",
       "date                                                                   \n",
       "1960              72179235   667070000   450547675  119897000  17099836\n",
       "1961              74311338   660330000   459642166  121236000  17524533\n",
       "1962              76514329   665770000   469077191  122591000  17965733\n",
       "1963              78772647   682335000   478825602  123960000  18423157\n",
       "1964              81064572   698355000   488848139  125345000  18896303\n",
       "...                    ...         ...         ...        ...       ...\n",
       "2017             207833825  1396215000  1338676779  144496739  57009751\n",
       "2018             209469320  1402760000  1352642283  144477859  57792520\n",
       "2019             211049519  1407745000  1366417756  144406261  58558267\n",
       "2020             212559409  1411100000  1380004385  144073139  59308690\n",
       "2021             213993441  1412360000  1393409033  143446060  60041996\n",
       "\n",
       "[62 rows x 5 columns]"
      ]
     },
     "execution_count": 49,
     "metadata": {},
     "output_type": "execute_result"
    }
   ],
   "source": [
    "df = df / 1e6"
   ]
  },
  {
   "cell_type": "markdown",
   "id": "27f26a03-6d7a-4c86-8a02-1ea341d7ac5b",
   "metadata": {},
   "source": [
    "## Visualization"
   ]
  },
  {
   "cell_type": "code",
   "execution_count": 56,
   "id": "ea29104c-d7ba-4e61-8bd5-b2842455420f",
   "metadata": {},
   "outputs": [
    {
     "data": {
      "text/html": [
       "\n",
       "    <div class=\"bk-root\">\n",
       "        <a href=\"https://bokeh.org\" target=\"_blank\" class=\"bk-logo bk-logo-small bk-logo-notebook\"></a>\n",
       "        <span id=\"3977\">Loading BokehJS ...</span>\n",
       "    </div>"
      ]
     },
     "metadata": {},
     "output_type": "display_data"
    },
    {
     "data": {
      "application/javascript": "\n(function(root) {\n  function now() {\n    return new Date();\n  }\n\n  const force = true;\n\n  if (typeof root._bokeh_onload_callbacks === \"undefined\" || force === true) {\n    root._bokeh_onload_callbacks = [];\n    root._bokeh_is_loading = undefined;\n  }\n\n  const JS_MIME_TYPE = 'application/javascript';\n  const HTML_MIME_TYPE = 'text/html';\n  const EXEC_MIME_TYPE = 'application/vnd.bokehjs_exec.v0+json';\n  const CLASS_NAME = 'output_bokeh rendered_html';\n\n  /**\n   * Render data to the DOM node\n   */\n  function render(props, node) {\n    const script = document.createElement(\"script\");\n    node.appendChild(script);\n  }\n\n  /**\n   * Handle when an output is cleared or removed\n   */\n  function handleClearOutput(event, handle) {\n    const cell = handle.cell;\n\n    const id = cell.output_area._bokeh_element_id;\n    const server_id = cell.output_area._bokeh_server_id;\n    // Clean up Bokeh references\n    if (id != null && id in Bokeh.index) {\n      Bokeh.index[id].model.document.clear();\n      delete Bokeh.index[id];\n    }\n\n    if (server_id !== undefined) {\n      // Clean up Bokeh references\n      const cmd_clean = \"from bokeh.io.state import curstate; print(curstate().uuid_to_server['\" + server_id + \"'].get_sessions()[0].document.roots[0]._id)\";\n      cell.notebook.kernel.execute(cmd_clean, {\n        iopub: {\n          output: function(msg) {\n            const id = msg.content.text.trim();\n            if (id in Bokeh.index) {\n              Bokeh.index[id].model.document.clear();\n              delete Bokeh.index[id];\n            }\n          }\n        }\n      });\n      // Destroy server and session\n      const cmd_destroy = \"import bokeh.io.notebook as ion; ion.destroy_server('\" + server_id + \"')\";\n      cell.notebook.kernel.execute(cmd_destroy);\n    }\n  }\n\n  /**\n   * Handle when a new output is added\n   */\n  function handleAddOutput(event, handle) {\n    const output_area = handle.output_area;\n    const output = handle.output;\n\n    // limit handleAddOutput to display_data with EXEC_MIME_TYPE content only\n    if ((output.output_type != \"display_data\") || (!Object.prototype.hasOwnProperty.call(output.data, EXEC_MIME_TYPE))) {\n      return\n    }\n\n    const toinsert = output_area.element.find(\".\" + CLASS_NAME.split(' ')[0]);\n\n    if (output.metadata[EXEC_MIME_TYPE][\"id\"] !== undefined) {\n      toinsert[toinsert.length - 1].firstChild.textContent = output.data[JS_MIME_TYPE];\n      // store reference to embed id on output_area\n      output_area._bokeh_element_id = output.metadata[EXEC_MIME_TYPE][\"id\"];\n    }\n    if (output.metadata[EXEC_MIME_TYPE][\"server_id\"] !== undefined) {\n      const bk_div = document.createElement(\"div\");\n      bk_div.innerHTML = output.data[HTML_MIME_TYPE];\n      const script_attrs = bk_div.children[0].attributes;\n      for (let i = 0; i < script_attrs.length; i++) {\n        toinsert[toinsert.length - 1].firstChild.setAttribute(script_attrs[i].name, script_attrs[i].value);\n        toinsert[toinsert.length - 1].firstChild.textContent = bk_div.children[0].textContent\n      }\n      // store reference to server id on output_area\n      output_area._bokeh_server_id = output.metadata[EXEC_MIME_TYPE][\"server_id\"];\n    }\n  }\n\n  function register_renderer(events, OutputArea) {\n\n    function append_mime(data, metadata, element) {\n      // create a DOM node to render to\n      const toinsert = this.create_output_subarea(\n        metadata,\n        CLASS_NAME,\n        EXEC_MIME_TYPE\n      );\n      this.keyboard_manager.register_events(toinsert);\n      // Render to node\n      const props = {data: data, metadata: metadata[EXEC_MIME_TYPE]};\n      render(props, toinsert[toinsert.length - 1]);\n      element.append(toinsert);\n      return toinsert\n    }\n\n    /* Handle when an output is cleared or removed */\n    events.on('clear_output.CodeCell', handleClearOutput);\n    events.on('delete.Cell', handleClearOutput);\n\n    /* Handle when a new output is added */\n    events.on('output_added.OutputArea', handleAddOutput);\n\n    /**\n     * Register the mime type and append_mime function with output_area\n     */\n    OutputArea.prototype.register_mime_type(EXEC_MIME_TYPE, append_mime, {\n      /* Is output safe? */\n      safe: true,\n      /* Index of renderer in `output_area.display_order` */\n      index: 0\n    });\n  }\n\n  // register the mime type if in Jupyter Notebook environment and previously unregistered\n  if (root.Jupyter !== undefined) {\n    const events = require('base/js/events');\n    const OutputArea = require('notebook/js/outputarea').OutputArea;\n\n    if (OutputArea.prototype.mime_types().indexOf(EXEC_MIME_TYPE) == -1) {\n      register_renderer(events, OutputArea);\n    }\n  }\n\n  \n  if (typeof (root._bokeh_timeout) === \"undefined\" || force === true) {\n    root._bokeh_timeout = Date.now() + 5000;\n    root._bokeh_failed_load = false;\n  }\n\n  const NB_LOAD_WARNING = {'data': {'text/html':\n     \"<div style='background-color: #fdd'>\\n\"+\n     \"<p>\\n\"+\n     \"BokehJS does not appear to have successfully loaded. If loading BokehJS from CDN, this \\n\"+\n     \"may be due to a slow or bad network connection. Possible fixes:\\n\"+\n     \"</p>\\n\"+\n     \"<ul>\\n\"+\n     \"<li>re-rerun `output_notebook()` to attempt to load from CDN again, or</li>\\n\"+\n     \"<li>use INLINE resources instead, as so:</li>\\n\"+\n     \"</ul>\\n\"+\n     \"<code>\\n\"+\n     \"from bokeh.resources import INLINE\\n\"+\n     \"output_notebook(resources=INLINE)\\n\"+\n     \"</code>\\n\"+\n     \"</div>\"}};\n\n  function display_loaded() {\n    const el = document.getElementById(\"3977\");\n    if (el != null) {\n      el.textContent = \"BokehJS is loading...\";\n    }\n    if (root.Bokeh !== undefined) {\n      if (el != null) {\n        el.textContent = \"BokehJS \" + root.Bokeh.version + \" successfully loaded.\";\n      }\n    } else if (Date.now() < root._bokeh_timeout) {\n      setTimeout(display_loaded, 100)\n    }\n  }\n\n\n  function run_callbacks() {\n    try {\n      root._bokeh_onload_callbacks.forEach(function(callback) {\n        if (callback != null)\n          callback();\n      });\n    } finally {\n      delete root._bokeh_onload_callbacks\n    }\n    console.debug(\"Bokeh: all callbacks have finished\");\n  }\n\n  function load_libs(css_urls, js_urls, callback) {\n    if (css_urls == null) css_urls = [];\n    if (js_urls == null) js_urls = [];\n\n    root._bokeh_onload_callbacks.push(callback);\n    if (root._bokeh_is_loading > 0) {\n      console.debug(\"Bokeh: BokehJS is being loaded, scheduling callback at\", now());\n      return null;\n    }\n    if (js_urls == null || js_urls.length === 0) {\n      run_callbacks();\n      return null;\n    }\n    console.debug(\"Bokeh: BokehJS not loaded, scheduling load and callback at\", now());\n    root._bokeh_is_loading = css_urls.length + js_urls.length;\n\n    function on_load() {\n      root._bokeh_is_loading--;\n      if (root._bokeh_is_loading === 0) {\n        console.debug(\"Bokeh: all BokehJS libraries/stylesheets loaded\");\n        run_callbacks()\n      }\n    }\n\n    function on_error(url) {\n      console.error(\"failed to load \" + url);\n    }\n\n    for (let i = 0; i < css_urls.length; i++) {\n      const url = css_urls[i];\n      const element = document.createElement(\"link\");\n      element.onload = on_load;\n      element.onerror = on_error.bind(null, url);\n      element.rel = \"stylesheet\";\n      element.type = \"text/css\";\n      element.href = url;\n      console.debug(\"Bokeh: injecting link tag for BokehJS stylesheet: \", url);\n      document.body.appendChild(element);\n    }\n\n    for (let i = 0; i < js_urls.length; i++) {\n      const url = js_urls[i];\n      const element = document.createElement('script');\n      element.onload = on_load;\n      element.onerror = on_error.bind(null, url);\n      element.async = false;\n      element.src = url;\n      console.debug(\"Bokeh: injecting script tag for BokehJS library: \", url);\n      document.head.appendChild(element);\n    }\n  };\n\n  function inject_raw_css(css) {\n    const element = document.createElement(\"style\");\n    element.appendChild(document.createTextNode(css));\n    document.body.appendChild(element);\n  }\n\n  \n  const js_urls = [\"https://cdn.bokeh.org/bokeh/release/bokeh-2.4.2.min.js\", \"https://cdn.bokeh.org/bokeh/release/bokeh-gl-2.4.2.min.js\", \"https://cdn.bokeh.org/bokeh/release/bokeh-widgets-2.4.2.min.js\", \"https://cdn.bokeh.org/bokeh/release/bokeh-tables-2.4.2.min.js\", \"https://cdn.bokeh.org/bokeh/release/bokeh-mathjax-2.4.2.min.js\"];\n  const css_urls = [];\n  \n\n  const inline_js = [\n    function(Bokeh) {\n      Bokeh.set_log_level(\"info\");\n    },\n    function(Bokeh) {\n    \n    \n    }\n  ];\n\n  function run_inline_js() {\n    \n    if (root.Bokeh !== undefined || force === true) {\n      \n    for (let i = 0; i < inline_js.length; i++) {\n      inline_js[i].call(root, root.Bokeh);\n    }\n    if (force === true) {\n        display_loaded();\n      }} else if (Date.now() < root._bokeh_timeout) {\n      setTimeout(run_inline_js, 100);\n    } else if (!root._bokeh_failed_load) {\n      console.log(\"Bokeh: BokehJS failed to load within specified timeout.\");\n      root._bokeh_failed_load = true;\n    } else if (force !== true) {\n      const cell = $(document.getElementById(\"3977\")).parents('.cell').data().cell;\n      cell.output_area.append_execute_result(NB_LOAD_WARNING)\n    }\n\n  }\n\n  if (root._bokeh_is_loading === 0) {\n    console.debug(\"Bokeh: BokehJS loaded, going straight to plotting\");\n    run_inline_js();\n  } else {\n    load_libs(css_urls, js_urls, function() {\n      console.debug(\"Bokeh: BokehJS plotting callback run at\", now());\n      run_inline_js();\n    });\n  }\n}(window));",
      "application/vnd.bokehjs_load.v0+json": ""
     },
     "metadata": {},
     "output_type": "display_data"
    }
   ],
   "source": [
    "output_notebook()"
   ]
  },
  {
   "cell_type": "code",
   "execution_count": 68,
   "id": "78041d94-56a6-43ff-a307-8e8a3b377858",
   "metadata": {},
   "outputs": [],
   "source": [
    "# instantiating the figure object\n",
    "p = figure(title = \"Population, total (World Bank)\", width=700, height=600)\n",
    "\n",
    "# colors\n",
    "colors = itertools.cycle(Spectral6) \n",
    "\n",
    "# plotting the line graph\n",
    "for column, color in zip(df.columns, colors):\n",
    "    p.line(df.index, df[column], legend_label=column, color=color, line_width=2,)\n",
    "\n",
    "p.legend.location = \"right\"\n",
    "p.legend.click_policy=\"mute\"\n",
    "p.title.text_font_size = \"12pt\"\n",
    "\n",
    "p.xaxis.axis_label = \"Year\"\n",
    "p.yaxis.axis_label = \"Population, total (in millions)\""
   ]
  },
  {
   "cell_type": "code",
   "execution_count": 69,
   "id": "a8b0a641-59e5-4b7a-8bd5-dc6465eb526b",
   "metadata": {},
   "outputs": [
    {
     "data": {
      "text/html": [
       "\n",
       "\n",
       "\n",
       "\n",
       "\n",
       "\n",
       "  <div class=\"bk-root\" id=\"25705005-b0e2-4039-9ec6-1cf3cb3f0b16\" data-root-id=\"4484\"></div>\n"
      ]
     },
     "metadata": {},
     "output_type": "display_data"
    },
    {
     "data": {
      "application/javascript": "(function(root) {\n  function embed_document(root) {\n    \n  const docs_json = {\"0181ffbe-936c-4fbd-bfb2-c1579d19823a\":{\"defs\":[],\"roots\":{\"references\":[{\"attributes\":{\"below\":[{\"id\":\"4495\"}],\"center\":[{\"id\":\"4498\"},{\"id\":\"4502\"},{\"id\":\"4533\"}],\"left\":[{\"id\":\"4499\"}],\"renderers\":[{\"id\":\"4521\"},{\"id\":\"4539\"},{\"id\":\"4558\"},{\"id\":\"4579\"},{\"id\":\"4602\"}],\"title\":{\"id\":\"4485\"},\"toolbar\":{\"id\":\"4510\"},\"width\":1000,\"x_range\":{\"id\":\"4487\"},\"x_scale\":{\"id\":\"4491\"},\"y_range\":{\"id\":\"4489\"},\"y_scale\":{\"id\":\"4493\"}},\"id\":\"4484\",\"subtype\":\"Figure\",\"type\":\"Plot\"},{\"attributes\":{},\"id\":\"4493\",\"type\":\"LinearScale\"},{\"attributes\":{\"line_alpha\":0.2,\"line_color\":\"#99d594\",\"line_width\":2,\"x\":{\"field\":\"x\"},\"y\":{\"field\":\"y\"}},\"id\":\"4538\",\"type\":\"Line\"},{\"attributes\":{\"line_alpha\":0.1,\"line_color\":\"#fc8d59\",\"line_width\":2,\"x\":{\"field\":\"x\"},\"y\":{\"field\":\"y\"}},\"id\":\"4600\",\"type\":\"Line\"},{\"attributes\":{\"data\":{\"x\":[\"1960\",\"1961\",\"1962\",\"1963\",\"1964\",\"1965\",\"1966\",\"1967\",\"1968\",\"1969\",\"1970\",\"1971\",\"1972\",\"1973\",\"1974\",\"1975\",\"1976\",\"1977\",\"1978\",\"1979\",\"1980\",\"1981\",\"1982\",\"1983\",\"1984\",\"1985\",\"1986\",\"1987\",\"1988\",\"1989\",\"1990\",\"1991\",\"1992\",\"1993\",\"1994\",\"1995\",\"1996\",\"1997\",\"1998\",\"1999\",\"2000\",\"2001\",\"2002\",\"2003\",\"2004\",\"2005\",\"2006\",\"2007\",\"2008\",\"2009\",\"2010\",\"2011\",\"2012\",\"2013\",\"2014\",\"2015\",\"2016\",\"2017\",\"2018\",\"2019\",\"2020\",\"2021\"],\"y\":[667070000,660330000,665770000,682335000,698355000,715185000,735400000,754550000,774510000,796025000,818315000,841105000,862030000,881940000,900350000,916395000,930685000,943455000,956165000,969005000,981235000,993885000,1008630000,1023310000,1036825000,1051040000,1066790000,1084035000,1101630000,1118650000,1135185000,1150780000,1164970000,1178440000,1191835000,1204855000,1217550000,1230075000,1241935000,1252735000,1262645000,1271850000,1280400000,1288400000,1296075000,1303720000,1311020000,1317885000,1324655000,1331260000,1337705000,1345035000,1354190000,1363240000,1371860000,1379860000,1387790000,1396215000,1402760000,1407745000,1411100000,1412360000]},\"selected\":{\"id\":\"4551\"},\"selection_policy\":{\"id\":\"4550\"}},\"id\":\"4535\",\"type\":\"ColumnDataSource\"},{\"attributes\":{},\"id\":\"4594\",\"type\":\"UnionRenderers\"},{\"attributes\":{\"line_color\":\"#fc8d59\",\"line_width\":2,\"x\":{\"field\":\"x\"},\"y\":{\"field\":\"y\"}},\"id\":\"4599\",\"type\":\"Line\"},{\"attributes\":{},\"id\":\"4550\",\"type\":\"UnionRenderers\"},{\"attributes\":{\"source\":{\"id\":\"4554\"}},\"id\":\"4559\",\"type\":\"CDSView\"},{\"attributes\":{},\"id\":\"4526\",\"type\":\"AllLabels\"},{\"attributes\":{},\"id\":\"4572\",\"type\":\"Selection\"},{\"attributes\":{\"coordinates\":null,\"data_source\":{\"id\":\"4517\"},\"glyph\":{\"id\":\"4518\"},\"group\":null,\"hover_glyph\":null,\"muted_glyph\":{\"id\":\"4520\"},\"nonselection_glyph\":{\"id\":\"4519\"},\"view\":{\"id\":\"4522\"}},\"id\":\"4521\",\"type\":\"GlyphRenderer\"},{\"attributes\":{\"coordinates\":null,\"data_source\":{\"id\":\"4535\"},\"glyph\":{\"id\":\"4536\"},\"group\":null,\"hover_glyph\":null,\"muted_glyph\":{\"id\":\"4538\"},\"nonselection_glyph\":{\"id\":\"4537\"},\"view\":{\"id\":\"4540\"}},\"id\":\"4539\",\"type\":\"GlyphRenderer\"},{\"attributes\":{\"source\":{\"id\":\"4598\"}},\"id\":\"4603\",\"type\":\"CDSView\"},{\"attributes\":{},\"id\":\"4503\",\"type\":\"PanTool\"},{\"attributes\":{\"data\":{\"x\":[\"1960\",\"1961\",\"1962\",\"1963\",\"1964\",\"1965\",\"1966\",\"1967\",\"1968\",\"1969\",\"1970\",\"1971\",\"1972\",\"1973\",\"1974\",\"1975\",\"1976\",\"1977\",\"1978\",\"1979\",\"1980\",\"1981\",\"1982\",\"1983\",\"1984\",\"1985\",\"1986\",\"1987\",\"1988\",\"1989\",\"1990\",\"1991\",\"1992\",\"1993\",\"1994\",\"1995\",\"1996\",\"1997\",\"1998\",\"1999\",\"2000\",\"2001\",\"2002\",\"2003\",\"2004\",\"2005\",\"2006\",\"2007\",\"2008\",\"2009\",\"2010\",\"2011\",\"2012\",\"2013\",\"2014\",\"2015\",\"2016\",\"2017\",\"2018\",\"2019\",\"2020\",\"2021\"],\"y\":[72179235,74311338,76514329,78772647,81064572,83373533,85696502,88035815,90387079,92746607,95113265,97482928,99859388,102259497,104706193,107216209,109790943,112425392,115121158,117878412,120694012,123570327,126498322,129448815,132383569,135274083,138108915,140891606,143627505,146328305,149003225,151648007,154259382,156849086,159432717,162019889,164614682,167209046,169785253,172318674,174790339,177196051,179537523,181809244,184006479,186127108,188167353,190130445,192030362,193886505,195713637,197514541,199287292,201035904,202763744,204471759,206163056,207833825,209469320,211049519,212559409,213993441]},\"selected\":{\"id\":\"4531\"},\"selection_policy\":{\"id\":\"4530\"}},\"id\":\"4517\",\"type\":\"ColumnDataSource\"},{\"attributes\":{\"coordinates\":null,\"data_source\":{\"id\":\"4598\"},\"glyph\":{\"id\":\"4599\"},\"group\":null,\"hover_glyph\":null,\"muted_glyph\":{\"id\":\"4601\"},\"nonselection_glyph\":{\"id\":\"4600\"},\"view\":{\"id\":\"4603\"}},\"id\":\"4602\",\"type\":\"GlyphRenderer\"},{\"attributes\":{},\"id\":\"4506\",\"type\":\"SaveTool\"},{\"attributes\":{},\"id\":\"4551\",\"type\":\"Selection\"},{\"attributes\":{},\"id\":\"4500\",\"type\":\"BasicTicker\"},{\"attributes\":{},\"id\":\"4595\",\"type\":\"Selection\"},{\"attributes\":{\"label\":{\"value\":\"RUS\"},\"renderers\":[{\"id\":\"4579\"}]},\"id\":\"4597\",\"type\":\"LegendItem\"},{\"attributes\":{\"axis\":{\"id\":\"4495\"},\"coordinates\":null,\"group\":null,\"ticker\":null},\"id\":\"4498\",\"type\":\"Grid\"},{\"attributes\":{\"bottom_units\":\"screen\",\"coordinates\":null,\"fill_alpha\":0.5,\"fill_color\":\"lightgrey\",\"group\":null,\"left_units\":\"screen\",\"level\":\"overlay\",\"line_alpha\":1.0,\"line_color\":\"black\",\"line_dash\":[4,4],\"line_width\":2,\"right_units\":\"screen\",\"syncable\":false,\"top_units\":\"screen\"},\"id\":\"4509\",\"type\":\"BoxAnnotation\"},{\"attributes\":{\"line_color\":\"#3288bd\",\"line_width\":2,\"x\":{\"field\":\"x\"},\"y\":{\"field\":\"y\"}},\"id\":\"4518\",\"type\":\"Line\"},{\"attributes\":{\"line_color\":\"#99d594\",\"line_width\":2,\"x\":{\"field\":\"x\"},\"y\":{\"field\":\"y\"}},\"id\":\"4536\",\"type\":\"Line\"},{\"attributes\":{\"data\":{\"x\":[\"1960\",\"1961\",\"1962\",\"1963\",\"1964\",\"1965\",\"1966\",\"1967\",\"1968\",\"1969\",\"1970\",\"1971\",\"1972\",\"1973\",\"1974\",\"1975\",\"1976\",\"1977\",\"1978\",\"1979\",\"1980\",\"1981\",\"1982\",\"1983\",\"1984\",\"1985\",\"1986\",\"1987\",\"1988\",\"1989\",\"1990\",\"1991\",\"1992\",\"1993\",\"1994\",\"1995\",\"1996\",\"1997\",\"1998\",\"1999\",\"2000\",\"2001\",\"2002\",\"2003\",\"2004\",\"2005\",\"2006\",\"2007\",\"2008\",\"2009\",\"2010\",\"2011\",\"2012\",\"2013\",\"2014\",\"2015\",\"2016\",\"2017\",\"2018\",\"2019\",\"2020\",\"2021\"],\"y\":[450547675,459642166,469077191,478825602,488848139,499123328,509631509,520400577,531513834,543084333,555189797,567868021,581087255,594770136,608802595,623102900,637630085,652408766,667499815,682995348,698952837,715384997,732239498,749428958,766833411,784360012,801975250,819682095,837468938,855334675,873277799,891273202,909307018,927403866,945601828,963922586,982365248,1000900028,1019483586,1038058154,1056575548,1075000094,1093317187,1111523146,1129623466,1147609924,1165486291,1183209471,1200669762,1217726217,1234281163,1250287939,1265780243,1280842119,1295600768,1310152392,1324517250,1338676779,1352642283,1366417756,1380004385,1393409033]},\"selected\":{\"id\":\"4572\"},\"selection_policy\":{\"id\":\"4571\"}},\"id\":\"4554\",\"type\":\"ColumnDataSource\"},{\"attributes\":{\"coordinates\":null,\"formatter\":{\"id\":\"4528\"},\"group\":null,\"major_label_policy\":{\"id\":\"4529\"},\"ticker\":{\"id\":\"4496\"}},\"id\":\"4495\",\"type\":\"LinearAxis\"},{\"attributes\":{},\"id\":\"4507\",\"type\":\"ResetTool\"},{\"attributes\":{\"line_color\":\"#e6f598\",\"line_width\":2,\"x\":{\"field\":\"x\"},\"y\":{\"field\":\"y\"}},\"id\":\"4555\",\"type\":\"Line\"},{\"attributes\":{},\"id\":\"4504\",\"type\":\"WheelZoomTool\"},{\"attributes\":{},\"id\":\"4528\",\"type\":\"BasicTickFormatter\"},{\"attributes\":{\"label\":{\"value\":\"BRA\"},\"renderers\":[{\"id\":\"4521\"}]},\"id\":\"4534\",\"type\":\"LegendItem\"},{\"attributes\":{\"source\":{\"id\":\"4535\"}},\"id\":\"4540\",\"type\":\"CDSView\"},{\"attributes\":{\"line_alpha\":0.1,\"line_color\":\"#e6f598\",\"line_width\":2,\"x\":{\"field\":\"x\"},\"y\":{\"field\":\"y\"}},\"id\":\"4556\",\"type\":\"Line\"},{\"attributes\":{},\"id\":\"4619\",\"type\":\"UnionRenderers\"},{\"attributes\":{\"click_policy\":\"hide\",\"coordinates\":null,\"group\":null,\"items\":[{\"id\":\"4534\"},{\"id\":\"4553\"},{\"id\":\"4574\"},{\"id\":\"4597\"},{\"id\":\"4622\"}],\"location\":\"right\"},\"id\":\"4533\",\"type\":\"Legend\"},{\"attributes\":{},\"id\":\"4489\",\"type\":\"DataRange1d\"},{\"attributes\":{\"overlay\":{\"id\":\"4509\"}},\"id\":\"4505\",\"type\":\"BoxZoomTool\"},{\"attributes\":{\"coordinates\":null,\"formatter\":{\"id\":\"4525\"},\"group\":null,\"major_label_policy\":{\"id\":\"4526\"},\"ticker\":{\"id\":\"4500\"}},\"id\":\"4499\",\"type\":\"LinearAxis\"},{\"attributes\":{\"source\":{\"id\":\"4517\"}},\"id\":\"4522\",\"type\":\"CDSView\"},{\"attributes\":{},\"id\":\"4529\",\"type\":\"AllLabels\"},{\"attributes\":{\"label\":{\"value\":\"ZAF\"},\"renderers\":[{\"id\":\"4602\"}]},\"id\":\"4622\",\"type\":\"LegendItem\"},{\"attributes\":{\"source\":{\"id\":\"4575\"}},\"id\":\"4580\",\"type\":\"CDSView\"},{\"attributes\":{\"line_alpha\":0.2,\"line_color\":\"#fee08b\",\"line_width\":2,\"x\":{\"field\":\"x\"},\"y\":{\"field\":\"y\"}},\"id\":\"4578\",\"type\":\"Line\"},{\"attributes\":{},\"id\":\"4531\",\"type\":\"Selection\"},{\"attributes\":{\"line_alpha\":0.1,\"line_color\":\"#3288bd\",\"line_width\":2,\"x\":{\"field\":\"x\"},\"y\":{\"field\":\"y\"}},\"id\":\"4519\",\"type\":\"Line\"},{\"attributes\":{\"line_alpha\":0.2,\"line_color\":\"#e6f598\",\"line_width\":2,\"x\":{\"field\":\"x\"},\"y\":{\"field\":\"y\"}},\"id\":\"4557\",\"type\":\"Line\"},{\"attributes\":{},\"id\":\"4487\",\"type\":\"DataRange1d\"},{\"attributes\":{\"axis\":{\"id\":\"4499\"},\"coordinates\":null,\"dimension\":1,\"group\":null,\"ticker\":null},\"id\":\"4502\",\"type\":\"Grid\"},{\"attributes\":{\"data\":{\"x\":[\"1960\",\"1961\",\"1962\",\"1963\",\"1964\",\"1965\",\"1966\",\"1967\",\"1968\",\"1969\",\"1970\",\"1971\",\"1972\",\"1973\",\"1974\",\"1975\",\"1976\",\"1977\",\"1978\",\"1979\",\"1980\",\"1981\",\"1982\",\"1983\",\"1984\",\"1985\",\"1986\",\"1987\",\"1988\",\"1989\",\"1990\",\"1991\",\"1992\",\"1993\",\"1994\",\"1995\",\"1996\",\"1997\",\"1998\",\"1999\",\"2000\",\"2001\",\"2002\",\"2003\",\"2004\",\"2005\",\"2006\",\"2007\",\"2008\",\"2009\",\"2010\",\"2011\",\"2012\",\"2013\",\"2014\",\"2015\",\"2016\",\"2017\",\"2018\",\"2019\",\"2020\",\"2021\"],\"y\":[17099836,17524533,17965733,18423157,18896303,19384838,19888259,20406863,20942147,21496075,22069783,22665265,23281517,23913090,24552540,25195184,25836890,26480915,27138966,27827325,28556771,29333095,30150448,30993762,31841588,32678876,33495956,34297727,35100905,35930056,36800507,37718952,38672611,39633754,40564061,41435761,42241007,42987456,43682259,44338551,44967713,45571272,46150913,46719203,47291610,47880595,48489464,49119766,49779472,50477013,51216967,52003759,52832659,53687125,54544184,55386369,56207649,57009751,57792520,58558267,59308690,60041996]},\"selected\":{\"id\":\"4620\"},\"selection_policy\":{\"id\":\"4619\"}},\"id\":\"4598\",\"type\":\"ColumnDataSource\"},{\"attributes\":{\"coordinates\":null,\"data_source\":{\"id\":\"4554\"},\"glyph\":{\"id\":\"4555\"},\"group\":null,\"hover_glyph\":null,\"muted_glyph\":{\"id\":\"4557\"},\"nonselection_glyph\":{\"id\":\"4556\"},\"view\":{\"id\":\"4559\"}},\"id\":\"4558\",\"type\":\"GlyphRenderer\"},{\"attributes\":{\"line_alpha\":0.2,\"line_color\":\"#fc8d59\",\"line_width\":2,\"x\":{\"field\":\"x\"},\"y\":{\"field\":\"y\"}},\"id\":\"4601\",\"type\":\"Line\"},{\"attributes\":{},\"id\":\"4491\",\"type\":\"LinearScale\"},{\"attributes\":{\"line_alpha\":0.2,\"line_color\":\"#3288bd\",\"line_width\":2,\"x\":{\"field\":\"x\"},\"y\":{\"field\":\"y\"}},\"id\":\"4520\",\"type\":\"Line\"},{\"attributes\":{\"coordinates\":null,\"group\":null,\"text\":\"Population, total (World Bank)\"},\"id\":\"4485\",\"type\":\"Title\"},{\"attributes\":{},\"id\":\"4530\",\"type\":\"UnionRenderers\"},{\"attributes\":{\"coordinates\":null,\"data_source\":{\"id\":\"4575\"},\"glyph\":{\"id\":\"4576\"},\"group\":null,\"hover_glyph\":null,\"muted_glyph\":{\"id\":\"4578\"},\"nonselection_glyph\":{\"id\":\"4577\"},\"view\":{\"id\":\"4580\"}},\"id\":\"4579\",\"type\":\"GlyphRenderer\"},{\"attributes\":{\"data\":{\"x\":[\"1960\",\"1961\",\"1962\",\"1963\",\"1964\",\"1965\",\"1966\",\"1967\",\"1968\",\"1969\",\"1970\",\"1971\",\"1972\",\"1973\",\"1974\",\"1975\",\"1976\",\"1977\",\"1978\",\"1979\",\"1980\",\"1981\",\"1982\",\"1983\",\"1984\",\"1985\",\"1986\",\"1987\",\"1988\",\"1989\",\"1990\",\"1991\",\"1992\",\"1993\",\"1994\",\"1995\",\"1996\",\"1997\",\"1998\",\"1999\",\"2000\",\"2001\",\"2002\",\"2003\",\"2004\",\"2005\",\"2006\",\"2007\",\"2008\",\"2009\",\"2010\",\"2011\",\"2012\",\"2013\",\"2014\",\"2015\",\"2016\",\"2017\",\"2018\",\"2019\",\"2020\",\"2021\"],\"y\":[119897000,121236000,122591000,123960000,125345000,126745000,127468000,128196000,128928000,129664000,130404000,131155000,131909000,132669000,133432000,134200000,135147000,136100000,137060000,138027000,139010000,139941000,140823000,141668000,142745000,143858000,144894000,145908000,146857000,147721000,147969407,148394216,148538197,148458777,148407912,148375787,148160129,147915361,147670784,147214776,146596869,145976482,145306497,144648618,144067316,143518814,143049637,142805114,142742366,142785349,142849468,142960908,143201721,143506995,143819667,144096870,144342397,144496739,144477859,144406261,144073139,143446060]},\"selected\":{\"id\":\"4595\"},\"selection_policy\":{\"id\":\"4594\"}},\"id\":\"4575\",\"type\":\"ColumnDataSource\"},{\"attributes\":{\"label\":{\"value\":\"CHN\"},\"renderers\":[{\"id\":\"4539\"}]},\"id\":\"4553\",\"type\":\"LegendItem\"},{\"attributes\":{\"tools\":[{\"id\":\"4503\"},{\"id\":\"4504\"},{\"id\":\"4505\"},{\"id\":\"4506\"},{\"id\":\"4507\"},{\"id\":\"4508\"}]},\"id\":\"4510\",\"type\":\"Toolbar\"},{\"attributes\":{},\"id\":\"4571\",\"type\":\"UnionRenderers\"},{\"attributes\":{\"line_alpha\":0.1,\"line_color\":\"#99d594\",\"line_width\":2,\"x\":{\"field\":\"x\"},\"y\":{\"field\":\"y\"}},\"id\":\"4537\",\"type\":\"Line\"},{\"attributes\":{},\"id\":\"4508\",\"type\":\"HelpTool\"},{\"attributes\":{\"label\":{\"value\":\"IND\"},\"renderers\":[{\"id\":\"4558\"}]},\"id\":\"4574\",\"type\":\"LegendItem\"},{\"attributes\":{},\"id\":\"4620\",\"type\":\"Selection\"},{\"attributes\":{\"line_alpha\":0.1,\"line_color\":\"#fee08b\",\"line_width\":2,\"x\":{\"field\":\"x\"},\"y\":{\"field\":\"y\"}},\"id\":\"4577\",\"type\":\"Line\"},{\"attributes\":{\"line_color\":\"#fee08b\",\"line_width\":2,\"x\":{\"field\":\"x\"},\"y\":{\"field\":\"y\"}},\"id\":\"4576\",\"type\":\"Line\"},{\"attributes\":{},\"id\":\"4525\",\"type\":\"BasicTickFormatter\"},{\"attributes\":{},\"id\":\"4496\",\"type\":\"BasicTicker\"}],\"root_ids\":[\"4484\"]},\"title\":\"Bokeh Application\",\"version\":\"2.4.2\"}};\n  const render_items = [{\"docid\":\"0181ffbe-936c-4fbd-bfb2-c1579d19823a\",\"root_ids\":[\"4484\"],\"roots\":{\"4484\":\"25705005-b0e2-4039-9ec6-1cf3cb3f0b16\"}}];\n  root.Bokeh.embed.embed_items_notebook(docs_json, render_items);\n\n  }\n  if (root.Bokeh !== undefined) {\n    embed_document(root);\n  } else {\n    let attempts = 0;\n    const timer = setInterval(function(root) {\n      if (root.Bokeh !== undefined) {\n        clearInterval(timer);\n        embed_document(root);\n      } else {\n        attempts++;\n        if (attempts > 100) {\n          clearInterval(timer);\n          console.log(\"Bokeh: ERROR: Unable to run BokehJS code because BokehJS library is missing\");\n        }\n      }\n    }, 10, root)\n  }\n})(window);",
      "application/vnd.bokehjs_exec.v0+json": ""
     },
     "metadata": {
      "application/vnd.bokehjs_exec.v0+json": {
       "id": "4484"
      }
     },
     "output_type": "display_data"
    }
   ],
   "source": [
    "show(p)"
   ]
  },
  {
   "cell_type": "code",
   "execution_count": null,
   "id": "ac071524-3d61-4c4f-bb92-399bfa874a72",
   "metadata": {},
   "outputs": [],
   "source": []
  }
 ],
 "metadata": {
  "kernelspec": {
   "display_name": "Python 3 (ipykernel)",
   "language": "python",
   "name": "python3"
  },
  "language_info": {
   "codemirror_mode": {
    "name": "ipython",
    "version": 3
   },
   "file_extension": ".py",
   "mimetype": "text/x-python",
   "name": "python",
   "nbconvert_exporter": "python",
   "pygments_lexer": "ipython3",
   "version": "3.9.12"
  },
  "vscode": {
   "interpreter": {
    "hash": "b6702b69e93007336b96338c5a331192f07cedff01d36d4dcfa0f842adb718ad"
   }
  }
 },
 "nbformat": 4,
 "nbformat_minor": 5
}
