{
 "cells": [
  {
   "cell_type": "markdown",
   "id": "90700fdc-fcc7-4e54-8c9e-449879d8c66d",
   "metadata": {
    "tags": []
   },
   "source": [
    "# Package Example\n",
    "\n",
    "> The following is an example of on how to use and distribute the source code of your project as a [Python package](https://packaging.python.org/en/latest/tutorials/installing-packages/)."
   ]
  },
  {
   "cell_type": "markdown",
   "id": "82919305-5688-410f-9084-70c81056dbc6",
   "metadata": {},
   "source": [
    "## Usage"
   ]
  },
  {
   "cell_type": "markdown",
   "id": "b4c0f3e8-7756-41bb-aa21-cc2eee5ff67f",
   "metadata": {},
   "source": [
    "Unlike the previous example, where the source code was contained on the Jupyter notebok itself, we (re)use a Python package - for this example, the [datalab](https://github.com/worldbank/DECAT_Data_Science_Template/tree/main/src/datalab) Python package.\n",
    "\n",
    "We import the class `WorldBankIndicatorsAPI` that will let us (re)use any attributes and methods created to faciliate the usage of the [World Bank Indicators API](https://datahelpdesk.worldbank.org/knowledgebase/articles/889392-about-the-indicators-api-documentation)."
   ]
  },
  {
   "cell_type": "code",
   "execution_count": null,
   "id": "d797ef77-6ca4-4f9d-a1f8-abbfd9884b07",
   "metadata": {},
   "outputs": [],
   "source": [
    "from datalab.indicators import WorldBankIndicatorsAPI"
   ]
  },
  {
   "cell_type": "markdown",
   "id": "80887da5-0474-48b3-8c71-fbe3dbd3a8e8",
   "metadata": {},
   "source": [
    "```{tip}\n",
    "The <span style=\"color:#3EACAD\">template</span> will automatically find and install any local `src` packages as long as the `setup.cfg` file is up-to-date.\n",
    "```"
   ]
  },
  {
   "cell_type": "markdown",
   "id": "17f380e4-3854-4af6-940c-7afe9723a59a",
   "metadata": {},
   "source": [
    "Now, let's continue with the example by creating the API object. "
   ]
  },
  {
   "cell_type": "code",
   "execution_count": null,
   "id": "f911a5c3-6994-45a6-a049-4b398f5890c0",
   "metadata": {},
   "outputs": [],
   "source": [
    "api = WorldBankIndicatorsAPI()"
   ]
  },
  {
   "cell_type": "markdown",
   "id": "7fa96741-f4cd-4504-a5f8-6467f9a2345e",
   "metadata": {},
   "source": [
    "We are going to use the `query` method to retrieve data from the [World Bank Indicators API](https://datahelpdesk.worldbank.org/knowledgebase/articles/889392-about-the-indicators-api-documentation). Thus, let's see the method's *docstring* as shown below."
   ]
  },
  {
   "cell_type": "markdown",
   "id": "d28aebd1-1339-451f-978e-4162b620c43e",
   "metadata": {},
   "source": [
    "```\n",
    "Signature: api.query(indicator, country: list = 'all', params: dict = {})\n",
    "Docstring:\n",
    "Retrieve a response, valid JSON response or error, from the World Bank Indicators API.\n",
    "\n",
    "See also:\n",
    "    https://datahelpdesk.worldbank.org/knowledgebase/articles/889392-about-the-indicators-api-documentation\n",
    "\n",
    "Parameters\n",
    "----------\n",
    "indicator : str\n",
    "country : list, optional\n",
    "params : dict, optional\n",
    "\n",
    "Returns\n",
    "-------\n",
    "pandas.core.frame.DataFrame\n",
    "```"
   ]
  },
  {
   "cell_type": "markdown",
   "id": "daa4319a-8936-4195-b1fc-aad9c008325b",
   "metadata": {},
   "source": [
    "```{important}\n",
    "The `datalab` Python package is for demonstration purposes only. For support, please see the [World Bank Indicators API Documentation](https://datahelpdesk.worldbank.org/knowledgebase/articles/889392-about-the-indicators-api-documentation).\n",
    "```"
   ]
  },
  {
   "cell_type": "markdown",
   "id": "5a28f218-3b8e-4a49-9b7b-b3d6888fa4ad",
   "metadata": {},
   "source": [
    "It is crucial to document well the source code to create a realible, maintainable and reproducicle project. Since [PEP 257](https://peps.python.org/pep-0257), Python offers *doctrings*, which are an easy and standard to create code documentation."
   ]
  },
  {
   "cell_type": "markdown",
   "id": "23b0a1eb-73c1-42e7-8903-98e362ef86de",
   "metadata": {},
   "source": [
    "Finally, let's invoke the method and retrieve the results for the BRICS (as before)."
   ]
  },
  {
   "cell_type": "code",
   "execution_count": null,
   "id": "7fb7daea-c5cf-42ea-b746-a565dd9ac4e1",
   "metadata": {},
   "outputs": [],
   "source": [
    "df = api.query(\"SP.POP.TOTL\", country=[\"Brazil\", \"China\", \"India\", \"Russia\", \"South Africa\"])"
   ]
  },
  {
   "cell_type": "code",
   "execution_count": null,
   "id": "b1d7cf70-bf0e-4c12-ae0d-fd26349291db",
   "metadata": {
    "tags": [
     "remove-cell"
    ]
   },
   "outputs": [],
   "source": [
    "df = df.pivot_table(values=\"value\", index=\"date\", columns=\"country.value\")"
   ]
  },
  {
   "cell_type": "code",
   "execution_count": null,
   "id": "699a0495-4f06-479c-b517-58336110547f",
   "metadata": {
    "tags": [
     "output_scroll"
    ]
   },
   "outputs": [],
   "source": [
    "df"
   ]
  },
  {
   "cell_type": "markdown",
   "id": "c5daa85a-004d-4e93-be84-72d064d0b83b",
   "metadata": {},
   "source": [
    "## Visualization\n",
    "\n",
    "As before, let's now plot the data as a time series using [Bokeh](https://docs.bokeh.org)."
   ]
  },
  {
   "cell_type": "code",
   "execution_count": null,
   "id": "5d6be794-9e37-4ee2-94df-b40dff3ace6a",
   "metadata": {
    "tags": [
     "hide-input"
    ]
   },
   "outputs": [],
   "source": [
    "import itertools\n",
    "\n",
    "import bokeh\n",
    "\n",
    "from bokeh.palettes import Spectral6\n",
    "from bokeh.plotting import figure, show, output_notebook\n",
    "\n",
    "output_notebook()\n",
    "\n",
    "# instantiating the figure object\n",
    "p = figure(title = \"Population, total (World Bank)\", width=700, height=600)\n",
    "\n",
    "# colors\n",
    "colors = itertools.cycle(Spectral6) \n",
    "\n",
    "# plotting the line graph\n",
    "for column, color in zip(df.columns, colors):\n",
    "    p.line(df.index, df[column], legend_label=column, color=color, line_width=2,)\n",
    "\n",
    "p.legend.location = \"right\"\n",
    "p.legend.click_policy=\"mute\"\n",
    "p.title.text_font_size = \"12pt\"\n",
    "\n",
    "p.xaxis.axis_label = \"Year\"\n",
    "p.yaxis.axis_label = \"Population, total (in millions)\"\n",
    "\n",
    "show(p)"
   ]
  }
 ],
 "metadata": {
  "kernelspec": {
   "display_name": "Python 3 (ipykernel)",
   "language": "python",
   "name": "python3"
  },
  "language_info": {
   "codemirror_mode": {
    "name": "ipython",
    "version": 3
   },
   "file_extension": ".py",
   "mimetype": "text/x-python",
   "name": "python",
   "nbconvert_exporter": "python",
   "pygments_lexer": "ipython3",
   "version": "3.9.12"
  },
  "vscode": {
   "interpreter": {
    "hash": "b6702b69e93007336b96338c5a331192f07cedff01d36d4dcfa0f842adb718ad"
   }
  }
 },
 "nbformat": 4,
 "nbformat_minor": 5
}
